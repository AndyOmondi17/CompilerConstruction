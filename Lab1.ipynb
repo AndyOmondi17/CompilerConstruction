{
  "nbformat": 4,
  "nbformat_minor": 0,
  "metadata": {
    "colab": {
      "provenance": [],
      "collapsed_sections": [],
      "authorship_tag": "ABX9TyO3+e9Gzi3q4OD+LsCAHBKP",
      "include_colab_link": true
    },
    "kernelspec": {
      "name": "python3",
      "display_name": "Python 3"
    },
    "language_info": {
      "name": "python"
    }
  },
  "cells": [
    {
      "cell_type": "markdown",
      "metadata": {
        "id": "view-in-github",
        "colab_type": "text"
      },
      "source": [
        "<a href=\"https://colab.research.google.com/github/AndyOmondi17/CompilerConstruction/blob/main/Lab1.ipynb\" target=\"_parent\"><img src=\"https://colab.research.google.com/assets/colab-badge.svg\" alt=\"Open In Colab\"/></a>"
      ]
    },
    {
      "cell_type": "markdown",
      "source": [
        "**Group Members: 105493, 101170, 112448**"
      ],
      "metadata": {
        "id": "a7oKZ0IrLJ-3"
      }
    },
    {
      "cell_type": "markdown",
      "source": [
        "**Lab Activity 1:Flex,Bison,Lex,Yacc**"
      ],
      "metadata": {
        "id": "_9rnH0R5LmYo"
      }
    },
    {
      "cell_type": "markdown",
      "source": [
        "**Flex(fast lexical analyzer generator)**-A tool/computer program for generating lexical analyzers (scanners or lexers) written by Vern Paxson in C around 1987.A scanner divides this into the tokens alpha, equal sign, beta, plus sign, gamma, and semicolon. Then the parser determines that beta + gamma is an expression, and that the expression is assigned to alpha.\n",
        "\n",
        "![flex.png](data:image/png;base64,iVBORw0KGgoAAAANSUhEUgAAAQMAAADCCAMAAAB6zFdcAAAAgVBMVEX///8AAADc3NyQkJD8/PyTk5OoqKhSUlJ7e3s/Pz/39/eKiooREREODg4EBARkZGQhISG4uLjw8PDm5uZbW1vPz8/s7OzX19ff39/Dw8OysrKvr6+bm5vAwMDMzMyioqKAgIBpaWlHR0dzc3MzMzMaGho9PT0oKCheXl4vLy8YGBi+tesiAAAQeUlEQVR4nO2dC2OjKhOGZxQvwe4aQEWMd3Nr//8P/AZN2rSb3re7+/XwnGyOURjgZUAriAAOh8PhcDgcDofD4XA4HA6Hw+FwOBwOh8Pxe+GSc0kw+vdiQDmHurJfPfrJyBC/3y6uWuL82u5HVgA8LeH1gL8FvUVMhxHjDlG9FFAg4qR/3Y/4aCdjGWbnrDfjtULEePuy3CTBBif/OK7Mi1k6I69K/Q6obMIr60jhTzNXAFty8UuVJ7jN+SmLp1D2e1xXTw1G3mkzw+o++IM9TYbmyKdd7PS5SNHHWGjZYp2fs3Ofr1O0c2D7a6yLCxNXfPU1GtIABEwKf5AGXJ2t/WLKx2152lTylBtCNt5pz+n7QQOF1iXYbKqY7ali1mCfwxL73rjiS4pLaysRK2sjCPL7LJGJX0JKZSslxkQtB5Yj7/cK0sCUqZKF1aA7xDvlIY4mWurqmgZyP2wTmBDrChNh24J3iDEGs092t+pCgyBBbCljKWYpYk7tzt/ucquBHhA7784PMR0RveIQHwLocB3gWs1J3YlFDA3Bdlqr4hbjvW1C5a7fdRDgLXllMU2ULGsRV3GZ7/pDD8UekzUG73UF0oDyWALHH63GvlxtmcBDkzVPm/K9Bhk2hnxni33YK+oPKk6lTtE7YNtg9KABG8QPyiNAjrdVQkcyFBoP3PqBtN6XiTood5jo/dpUKBhiMh4aipnirTmlajDxtiue4FFEmMDN1oRoOKK/2teYUrIdha6NwYhM9KTOysekhPdBGmyG46JBglm1pQrL8G4zSyAX+IMGjALeBJQ8kLukpe0TRYWpzBMdTk2IK36vgajLGtfUY7YYaUNHmkE0VNFzW4hx8hINZYfbpsSDn2As8WdVaOvJAx4MqLrr6jzG42aNeYK96jGmriToMSlwJwqtpq6xugzoyxCH3CPbAfZG5h/wg4ZRrkmDfMKpC0MDVEuhPcZvZjBhD35gSvxZUygOPW6Z1aAhReg8xvhxNeD4oEE0phliYP0g8kgDCdM2xsOiQYnrSXBKFWtF22RwU1jfmKFzFPkB/R6okDEdo9qJC9LA4Dbswo3CnXWX9pYaiD9r4JMGJf7QNfZXzl1v0EBAufhBjZG0/U8X44+lk9MLVoNg0WDbzlml7E8HrGc/oLZjj6yxEhcalIMw7YgrZf3AagAjdu1ZA/qRUTknjFpDhaUicW4Nz1VolaH/7TDQ1AgKSuykQTmLwyTujHWvzGSzBoEUpIHtZ0gD77mSPgeD6qQ+1X1LmanzoTS+GXF6dJKh7d72V3w4kE/u8zqAY7OxlxQ2+g8ciprErGPcFxWOc3scfGpCZL2jzI5lg3vb3gPc6RwPuT191CV1j1ipXUvuk/uhvPcD6gUO1Df+RF9TqYN2su2goOYDEUZ5Ui2iBTiGB+qLB5x6vt5qgYHycXpvZ0CpHaMos/LXY5SAucVo00apmaLRPA4YRlGUDqsxVmy42/U6GGsxRpP9x8rxx62vEhy7wzacosgWRYxZC3lMsVr6qmhvG+K+Xh3qJIpsLa+p6w/GbBizhqU/DklOKaTypLiObpNhH288MIeflKUhyqo0ihQ/4q2f11E0cJDj3UQ9WFtub2sto3T0GzVEUfhuP2ClR9Cpmnv26rTIcwnKK5Xd+Sik9E5QK9A5eYTnFfRLljaazHPqy8qSSc3lEpXN/7NBNAX1VOmVZJhLLe1PoflEp00+W1TAdF7aGPr+3M7K1uSelaSwtsmozZMN2T6E1GRS0/WCLqmr1i01WWmTe68I5yQ/GO+j4N1UvXLB/Dx/OrNfhIgC83qobw2jK8BvUpsOh8PhcDgcDofj63n3nw9f9ffGx+y+Jdb94Mj5xycNvmbiwzAITlvl9j23pNpw/erNgM0EkIfr5SZJvHlytNlf3vngePFD9skVc9f3/g64HROZwRfDPeEA5auVYsdm16CWcOoXyfBSA3ZxX5RBNV2zJ67u/Q109bhseEew42PS3kC2+eW2/jizHyi43bOMhs7VmmMrQQnaU0hjC6lMQTG01bO1X7phwOwd1LzQmsuccQWy8Oyh3PBZFtKANR4UuixyTpKyJWab35c2b+EcyR6ivbnmPGc6t/e9taAklKeg/eyNiQROg891CKzXvS9XIqRdG9+MRY4gDxQm92Mo03LVgOobmz8PSy5qnm4UJilVYemzia8ysfUhkcEEQe4h9BEoVLwfQMY8CiCNmq2BumnncVnSgCc8qiBNGgEtMphUGMFOUkZEbAOMnkhgmCMdiq62GtgKSymJbg2hbndsWgV1zKung4TvQ7QsXkQfFaQa4hzGENaMWka5Bz1A3cPUgt9ApG2ud9DbsQ6Gcz0WCNHclPSu4JCEtMOLNvUoM6pEyLO5gVFTNxrq+vTZqVOrQ9b1YR8Du+vAptfUwDQYCPpZAwYNqyIIAwh92ltPs3egJF9jnCrpdhPulaFdWQ0fvk9piwJT19VLw0TQJPIdk8hVRJLINIe6YnetuqXmz8FvNwn4x9CbO2ikD/kysmipgwprqwFHYTuu9mgDnTSAOKxhFiCw311fpHMHjxCbOQ/kL1aDrpsrRVT9yQ/arj1r0GzEokEQkFKQdVDc2iDWKXl096nZCNr21qO9959PsgtgMzLRQxgWENsb1qMUaxkm0Gw5iJDUHluQfNEAyEXlLSwatHYPaaAiRU5tSiyg5fqkQWF9/94P7J3ykwYhBdiAybON/WXWVCZ1B+KkAVnUiwYBuVIT2w+JHFKorR2s16ByQ7sMhJ/pLOWKUpcTUosO07I91M1eTTn0k+TRmk6a6HNs9E3dHjT0t6mEah/OA0MNGiqvSVRx69vyNInuIYlMrKDHSECIowB/Kw0a6usGCTJN+TTwYYB4O2Z2NKLFlo27qCwj6mG1h40dhSs5xsFa95GdvLAeOswpEn1+TPVN3kdUC70iHbom1g2O1PlQC87y7jP9wTwngs3TLxhVu5y/5z22nWk6Q8wfOjlAzyHs7cyiJeJyurifS8LsdkKeQlGl3cf5yagN7y9zN9icUsBkESwmbIrLxAwKyOZfNtYyiWPekKfN2dCc2+Qh3/yUdflFc5gizvpHpiePbV4ZH4jrq7uH9PLiy9u1evOBgeJTEkP7eqDfBTftk5Nua17peWRYXQ0hHnuq11Xywxe9zX99mMbhcDgcDofD4XA4HA6H4/+U6e7m4+xWfzv7v4V0HfgfJRgPfzv7v4U0+kRkf/3b8vE3+ZQGidPAaQBOA4vTwGlg+bc1ePNQ2KLBwxP9L9p8evxSgydPVv512qdTyPLulzCnfJ402HSbzvivzAZJIHw88vicBsCDzy7x8Gl4ar/nxRWWrPGTx19kVMUbW+RTW9jUAGYoHuqaXfy7jwJh9Wh3cnGdqGPBH8LH6iHgwxTHP+kffICNyJXf1VCKxD6XnJ2OZOk9R8S97500qGowMEgpEtZVoR1qr7qWhWFeJKI3sRT1JIqerILwi6obFmsJPpgbIsSxPk/Q6xUXCQ9DoQG8CYQelCLnzEXwNK9fqIEojrCFFYxzldxrEGVnjqTBrs/PGmSbDAYem6lh8xPDG81MUsIabmEq287UcCBrG7EJu16cWxZpcG8vJQ22/vkR/r7omz6EcZ7zMrIQ6iZXIBN4sgjJl2rQlSlE9J+o7byKswaP2kJn/fXBDzhpENlpK/Ns0p58ISsh41bEtjYhHR2hahJq6OLc3Vy2hXKa29ZZAxnZ7XqeZ2QSAXykSDr5Y/0lk1mxyke+p7qrRc7yhq9+Sfs0R+WkQdfTV1YkfaWb4kg9X74XTdvDRJ4wlCYwCY/JWle1YyOqez9Y/2JvyQD5DjWe1pSTkVQHWzroC+pTd9WvnfMX4eU8L3KVF22xaatOqjK/tkyS5XResI+Ny9wDU0LLy3y2QXVrwJopPd0Erd3UGnQO+dnjn7s+YJxMtfThquXUI9jH2qnHzEGaP7N60uPcjOHmxZncb7xG6q7Otn7bNVI+KrDTWf8ezznAiTdqUBTXzLxNAztVbpm29o/yja+V34zTwN1Ls6R3ffxR+tX3uKfarz5D9noCDofD4XA4HP+HbD488m65/uzP/xsp/vj5UX7gN/l7wf3N5P52BqeB5Y0aXFnHHP5rGlznG2oQhOH8qDbAw1rwywO+iTL+HIQ9GjP8fhocDfX0z62DX9w/mX5x7J/U4P33rx80mBd1sQYqMUDdxDCFaRjUXhSMbNJyAtEFXjpcvl3hH9SAfWBZkQcN1GlJGeVD2dbQCb/UAYwQQW2CXMZlbCZ43Hv8gxrww+V7Hx7xqzjesk7wRVvA+Tl+8GJgTQ9NFZS6Jg0y2Mwa5HRhLI+PbFxq0D5d9J9dfP/BGRkZA5ND47WKgTasLRtZasqBODswE80J0fQ4duWlBnpsmnlVjSmEo05Y2jYTR771ehiEHtk2CYvDo4ImN6a5Z8AoVGexi/mNJLxpwci8NMc/J0IGfjl67bShrMg91HDLGgXSZ8M5BD6hPl56t1pKaL/tCkMWxu2bWuYtsAv1P3Io/6m5m+50fAB7yzmFWtS5TlT/xQW/IIOo9LhdAIeIdQWmpoqtzMOkK35ez4LzZF+Xb7g+0OPzs5SoLbB7g4N1g3NL9AzZLTJQaZiXfvFV62NdIYJVWWivXTGpoECqtL0BT2fMXOkPFvd8VYPrV4gLl/2BvpCK8RFWoOEn6K5rW+sHf2rEVSaeorZcQyi0XciGdnXAE9jE6tksfNF1oi8CKni5ESDjJmQfecnEZzgVV3caZPXqov4vaMAFB68zL0xf+AfPjY/w7HS0199r8LwGDMaCJUUingvw72vwRp7VYF4VKTx61X9XA9uiUlkmdkris3x3DeKeD7Ls/9Ma0L9M0nVz+MJkqm+uAdjzgpcL/tKiTt9fg9dxGjgNLN9lfAFvfnyUm28yzlQFn+F7jDc6HI4Fpb1P8P53Dv6LHJ/eEnwXd387+7+FdFQf94L4e8xXdteJTgOL08BpYHEaOA0s/xUNXnrm/ntocH3uzAN8f/VouYwPvqLBy8OEj8YbrzzF652fd/rSlQ8Ykwz4/PZ6Nr9nwc6jWN6CsGyxefD8PB56Oe4cR2HxrAZyzjXns2HWP1OEy3FnmR7trI7TuHPCba5gtCbkku5rT9x+GBaY0oiuMr4c+W2S1yaVlR0eK7qw8zrhQ6LXsGnPJX16vV9f16DO7UoajaiFCYqRH555J/0v8w8Op/kHfK11SIlHMmGUOL8VK6jVu99o/kb2BvZUNOWT5nswDXB/Y4fHfAU8k7CtGspIaoLTS9nFAwluA/2MHxQ64vY1VmTYTkkan0k8uWnuzTXTPK/lVNcRHClx2AZQDMaaiKXvf5EfcDmIkcNY+nNWmwBkr+2btZIWZOpBFoakQWbfXfUkphfOE3SuacAg5gOf3+WzL1/U4KI/yDeXczVGoMQjyCbPvsPHLiRRSPFFT0PKpMl1Ilq2rfbqRsGYmuIQ51TmdVyqqRFs7Faqj+rneqXrfpDWRxOrnAzz/WbFRnG9c3z+vDCEKjZC3UpUU1bzXRHlif5zdx+fWajoXRr8Eu167LecG//dR/7v+R7XB5/DaeA0sDgN3HijJf3UfeXvoUETfoan6/M5HA6Hw+FwOBwOh8PhcDgcDofjb/I/GOkr/LzvHP4AAAAASUVORK5CYII=)\n"
      ],
      "metadata": {
        "id": "F5DP2p1FMcU2"
      }
    },
    {
      "cell_type": "code",
      "execution_count": null,
      "metadata": {
        "id": "uPqctbyIKW8N"
      },
      "outputs": [],
      "source": [
        "/* scanner for a toy Pascal-like language */\n",
        "\n",
        "%{\n",
        "/* need this for the call to atof() below */\n",
        "#include <math.h>\n",
        "%}\n",
        "\n",
        "DIGIT    [0-9]\n",
        "ID       [a-z][a-z0-9]*\n",
        "\n",
        "%%\n",
        "\n",
        "{DIGIT}+    {\n",
        "            printf( \"An integer: %s (%d)\\n\", yytext,\n",
        "                    atoi( yytext ) );\n",
        "            }\n",
        "\n",
        "{DIGIT}+\".\"{DIGIT}*        {\n",
        "            printf( \"A float: %s (%g)\\n\", yytext,\n",
        "                    atof( yytext ) );\n",
        "            }\n",
        "\n",
        "if|then|begin|end|procedure|function        {\n",
        "            printf( \"A keyword: %s\\n\", yytext );\n",
        "            }\n",
        "\n",
        "{ID}        printf( \"An identifier: %s\\n\", yytext );\n",
        "\n",
        "\"+\"|\"-\"|\"*\"|\"/\"   printf( \"An operator: %s\\n\", yytext );\n",
        "\n",
        "\"{\"[^}\\n]*\"}\"     /* eat up one-line comments */\n",
        "\n",
        "[ \\t\\n]+          /* eat up whitespace */\n",
        "\n",
        ".           printf( \"Unrecognized character: %s\\n\", yytext );\n",
        "\n",
        "%%\n",
        "\n",
        "main( argc, argv )\n",
        "int argc;\n",
        "char **argv;\n",
        "    {\n",
        "    ++argv, --argc;  /* skip over program name */\n",
        "    if ( argc > 0 )\n",
        "            yyin = fopen( argv[0], \"r\" );\n",
        "    else\n",
        "            yyin = stdin;\n",
        "\n",
        "    yylex();\n",
        "    }"
      ]
    },
    {
      "cell_type": "markdown",
      "source": [
        "**Bison**"
      ],
      "metadata": {
        "id": "7TR9e7kGMhwP"
      }
    },
    {
      "cell_type": "code",
      "source": [],
      "metadata": {
        "id": "ZZC9jRjbMoFz"
      },
      "execution_count": null,
      "outputs": []
    },
    {
      "cell_type": "markdown",
      "source": [
        "**Lex** It is a program that generates lexical analyzer. It is used with YACC parser generator.The lexical analyzer is a program that transforms an input stream into a sequence of tokens.It reads the input stream and produces the source code as output through implementing the lexical analyzer in the C program.\n",
        "\n",
        "![lex1.png](data:image/png;base64,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)"
      ],
      "metadata": {
        "id": "C1McySNxMscH"
      }
    },
    {
      "cell_type": "code",
      "source": [
        "/*lex program to count number of words*/\n",
        "%{\n",
        "#include<stdio.h>\n",
        "#include<string.h>\n",
        "int i = 0;\n",
        "%}\n",
        "  \n",
        "/* Rules Section*/\n",
        "%%\n",
        "([a-zA-Z0-9])*    {i++;} /* Rule for counting \n",
        "                          number of words*/\n",
        "  \n",
        "\"\\n\" {printf(\"%d\\n\", i); i = 0;}\n",
        "%%\n",
        "  \n",
        "int yywrap(void){}\n",
        "  \n",
        "int main()\n",
        "{   \n",
        "    // The function that starts the analysis\n",
        "    yylex();\n",
        "  \n",
        "    return 0;\n"
      ],
      "metadata": {
        "id": "J8T64rSzM4Ty"
      },
      "execution_count": null,
      "outputs": []
    },
    {
      "cell_type": "markdown",
      "source": [
        "**Yacc**-Yet Another Compiler-Compiler.It provides a general tool for imposing structure on the input to a computer program.A parser, calls the user-supplied low-level input routine (the lexical analyzer) to pick up the basic items (called tokens) from the input stream. These tokens are organized according to the input structure rules, called grammar rules; when one of these rules has been recognized, then user code supplied for this rule, an action, is invoked; actions have the ability to return values and make use of the values of other actions.\n",
        "\n",
        "![yacc.png](data:image/png;base64,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)"
      ],
      "metadata": {
        "id": "s3Upf7YPM7Jv"
      }
    },
    {
      "cell_type": "code",
      "source": [
        "%{\n",
        "/*** Auxiliary declarations section ***/\n",
        "\n",
        "#include<stdio.h>\n",
        "#include<stdlib.h>\n",
        "\n",
        "/* Custom function to print an operator*/\n",
        "void print_operator(char op);\n",
        "\n",
        "/* Variable to keep track of the position of the number in the input */\n",
        "int pos=0;\n",
        "\n",
        "%}\n",
        "\n",
        " /*** YACC Declarations section ***/\n",
        "%token DIGIT\n",
        "%left '+'\n",
        "%left '*'\n",
        "%%\n",
        "\n",
        "/*** Rules Section ***/\n",
        "start : expr '\\n'\t\t{exit(1);}\n",
        "      ;\n",
        "\n",
        "expr: expr '+' expr     {print_operator('+');}\n",
        "    | expr '*' expr     {print_operator('*');}\n",
        "    | '(' expr ')'\n",
        "    | DIGIT             {printf(\"NUM%d \",pos);}\n",
        "    ;\n",
        "\n",
        "%%\n",
        "\n",
        "\n",
        "/*** Auxiliary functions section ***/\n",
        "\n",
        "void print_operator(char c){\n",
        "    switch(c){\n",
        "        case '+'  : printf(\"PLUS \");\n",
        "                    break;\n",
        "        case '*'  : printf(\"MUL \");\n",
        "                    break;\n",
        "    }\n",
        "    return;\n",
        "}\n",
        "\n",
        "yyerror(char const *s)\n",
        "{\n",
        "    printf(\"yyerror %s\",s);\n",
        "}\n",
        "\n",
        "yylex(){\n",
        "    char c;\n",
        "    c = getchar();\n",
        "    if(isdigit(c)){\n",
        "        pos++;\n",
        "        return DIGIT;\n",
        "    }\n",
        "    else if(c == ' '){\n",
        "        yylex();         /*This is to ignore whitespaces in the input*/\n",
        "    }\n",
        "    else {\n",
        "        return c;\n",
        "    }\n",
        "}\n",
        "\n",
        "main()\n",
        "{\n",
        "\tyyparse();\n",
        "\treturn 1;\n",
        "}"
      ],
      "metadata": {
        "id": "sQaRQWx2NGHO"
      },
      "execution_count": null,
      "outputs": []
    },
    {
      "cell_type": "markdown",
      "source": [
        "**Refferences**\n",
        "\n",
        "Flex (Fast Lexical Analyzer Generator ). (2018, April 12). GeeksforGeeks. https://www.geeksforgeeks.org/flex-fast-lexical-analyzer-generator/\n",
        "\n",
        "Yacc Yet Another Compiler Compiler by Stephen C. Johnson. (n.d.). Www.cs.utexas.edu. Retrieved September 13, 2022, from https://www.cs.utexas.edu/users/novak/yaccpaper.htm\n",
        "\n",
        "‌Lex Program to count number of words. (2018, May 15). GeeksforGeeks. https://www.geeksforgeeks.org/lex-program-count-number-words/\n",
        "\n",
        "‌LEX - javatpoint. (n.d.). Www.javatpoint.com. https://www.javatpoint.com/lex\n",
        "\n",
        "‌\n",
        "\n",
        "‌"
      ],
      "metadata": {
        "id": "2GL_0m2hkh_J"
      }
    }
  ]
}