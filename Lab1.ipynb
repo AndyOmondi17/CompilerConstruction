{
  "nbformat": 4,
  "nbformat_minor": 0,
  "metadata": {
    "colab": {
      "provenance": [],
      "authorship_tag": "ABX9TyNmPkll22ht/NvePfVcVMHG",
      "include_colab_link": true
    },
    "kernelspec": {
      "name": "python3",
      "display_name": "Python 3"
    },
    "language_info": {
      "name": "python"
    }
  },
  "cells": [
    {
      "cell_type": "markdown",
      "metadata": {
        "id": "view-in-github",
        "colab_type": "text"
      },
      "source": [
        "<a href=\"https://colab.research.google.com/github/AndyOmondi17/CompilerConstruction/blob/main/Lab1.ipynb\" target=\"_parent\"><img src=\"https://colab.research.google.com/assets/colab-badge.svg\" alt=\"Open In Colab\"/></a>"
      ]
    },
    {
      "cell_type": "markdown",
      "source": [
        "**Group Members: 105493, 101170, 112448**"
      ],
      "metadata": {
        "id": "a7oKZ0IrLJ-3"
      }
    },
    {
      "cell_type": "markdown",
      "source": [
        "**Lab Activity 1:Flex,Bison,Lex,Yacc**"
      ],
      "metadata": {
        "id": "_9rnH0R5LmYo"
      }
    },
    {
      "cell_type": "markdown",
      "source": [
        "**Flex(fast lexical analyzer generator)**-A tool/computer program for generating lexical analyzers (scanners or lexers) written by Vern Paxson in C around 1987.\n",
        "\n"
      ],
      "metadata": {
        "id": "F5DP2p1FMcU2"
      }
    },
    {
      "cell_type": "code",
      "execution_count": null,
      "metadata": {
        "id": "uPqctbyIKW8N"
      },
      "outputs": [],
      "source": []
    },
    {
      "cell_type": "markdown",
      "source": [
        "**Bison**"
      ],
      "metadata": {
        "id": "7TR9e7kGMhwP"
      }
    },
    {
      "cell_type": "code",
      "source": [],
      "metadata": {
        "id": "ZZC9jRjbMoFz"
      },
      "execution_count": null,
      "outputs": []
    },
    {
      "cell_type": "markdown",
      "source": [
        "**Lex**"
      ],
      "metadata": {
        "id": "C1McySNxMscH"
      }
    },
    {
      "cell_type": "code",
      "source": [],
      "metadata": {
        "id": "J8T64rSzM4Ty"
      },
      "execution_count": null,
      "outputs": []
    },
    {
      "cell_type": "markdown",
      "source": [
        "**Yacc**"
      ],
      "metadata": {
        "id": "s3Upf7YPM7Jv"
      }
    },
    {
      "cell_type": "code",
      "source": [],
      "metadata": {
        "id": "sQaRQWx2NGHO"
      },
      "execution_count": null,
      "outputs": []
    }
  ]
}