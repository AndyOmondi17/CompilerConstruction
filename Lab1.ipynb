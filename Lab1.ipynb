{
  "nbformat": 4,
  "nbformat_minor": 0,
  "metadata": {
    "colab": {
      "provenance": [],
      "collapsed_sections": [],
      "authorship_tag": "ABX9TyMfcaBa2aVD4A4Hm+8pnsmd",
      "include_colab_link": true
    },
    "kernelspec": {
      "name": "python3",
      "display_name": "Python 3"
    },
    "language_info": {
      "name": "python"
    }
  },
  "cells": [
    {
      "cell_type": "markdown",
      "metadata": {
        "id": "view-in-github",
        "colab_type": "text"
      },
      "source": [
        "<a href=\"https://colab.research.google.com/github/AndyOmondi17/CompilerConstruction/blob/main/Lab1.ipynb\" target=\"_parent\"><img src=\"https://colab.research.google.com/assets/colab-badge.svg\" alt=\"Open In Colab\"/></a>"
      ]
    },
    {
      "cell_type": "markdown",
      "source": [
        "**Group Members: 105493, 101170, 112448**"
      ],
      "metadata": {
        "id": "a7oKZ0IrLJ-3"
      }
    },
    {
      "cell_type": "markdown",
      "source": [
        "**Lab Activity 1:Flex,Bison,Lex,Yacc**"
      ],
      "metadata": {
        "id": "_9rnH0R5LmYo"
      }
    },
    {
      "cell_type": "markdown",
      "source": [
        "**Flex(fast lexical analyzer generator)**-A tool/computer program for generating lexical analyzers (scanners or lexers) written by Vern Paxson in C around 1987.A scanner divides this into the tokens alpha, equal sign, beta, plus sign, gamma, and semicolon. Then the parser determines that beta + gamma is an expression, and that the expression is assigned to alpha.\n",
        "\n",
        "![flex.png](data:image/png;base64,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)\n"
      ],
      "metadata": {
        "id": "F5DP2p1FMcU2"
      }
    },
    {
      "cell_type": "code",
      "execution_count": null,
      "metadata": {
        "id": "uPqctbyIKW8N"
      },
      "outputs": [],
      "source": [
        "/* scanner for a toy Pascal-like language */\n",
        "\n",
        "%{\n",
        "/* need this for the call to atof() below */\n",
        "#include <math.h>\n",
        "%}\n",
        "\n",
        "DIGIT    [0-9]\n",
        "ID       [a-z][a-z0-9]*\n",
        "\n",
        "%%\n",
        "\n",
        "{DIGIT}+    {\n",
        "            printf( \"An integer: %s (%d)\\n\", yytext,\n",
        "                    atoi( yytext ) );\n",
        "            }\n",
        "\n",
        "{DIGIT}+\".\"{DIGIT}*        {\n",
        "            printf( \"A float: %s (%g)\\n\", yytext,\n",
        "                    atof( yytext ) );\n",
        "            }\n",
        "\n",
        "if|then|begin|end|procedure|function        {\n",
        "            printf( \"A keyword: %s\\n\", yytext );\n",
        "            }\n",
        "\n",
        "{ID}        printf( \"An identifier: %s\\n\", yytext );\n",
        "\n",
        "\"+\"|\"-\"|\"*\"|\"/\"   printf( \"An operator: %s\\n\", yytext );\n",
        "\n",
        "\"{\"[^}\\n]*\"}\"     /* eat up one-line comments */\n",
        "\n",
        "[ \\t\\n]+          /* eat up whitespace */\n",
        "\n",
        ".           printf( \"Unrecognized character: %s\\n\", yytext );\n",
        "\n",
        "%%\n",
        "\n",
        "main( argc, argv )\n",
        "int argc;\n",
        "char **argv;\n",
        "    {\n",
        "    ++argv, --argc;  /* skip over program name */\n",
        "    if ( argc > 0 )\n",
        "            yyin = fopen( argv[0], \"r\" );\n",
        "    else\n",
        "            yyin = stdin;\n",
        "\n",
        "    yylex();\n",
        "    }"
      ]
    },
    {
      "cell_type": "markdown",
      "source": [
        "**Bison**"
      ],
      "metadata": {
        "id": "7TR9e7kGMhwP"
      }
    },
    {
      "cell_type": "code",
      "source": [],
      "metadata": {
        "id": "ZZC9jRjbMoFz"
      },
      "execution_count": null,
      "outputs": []
    },
    {
      "cell_type": "markdown",
      "source": [
        "**Lex**"
      ],
      "metadata": {
        "id": "C1McySNxMscH"
      }
    },
    {
      "cell_type": "code",
      "source": [],
      "metadata": {
        "id": "J8T64rSzM4Ty"
      },
      "execution_count": null,
      "outputs": []
    },
    {
      "cell_type": "markdown",
      "source": [
        "**Yacc**"
      ],
      "metadata": {
        "id": "s3Upf7YPM7Jv"
      }
    },
    {
      "cell_type": "code",
      "source": [],
      "metadata": {
        "id": "sQaRQWx2NGHO"
      },
      "execution_count": null,
      "outputs": []
    },
    {
      "cell_type": "markdown",
      "source": [
        "**Refferences**\n",
        "\n",
        "Flex (Fast Lexical Analyzer Generator ). (2018, April 12). GeeksforGeeks. https://www.geeksforgeeks.org/flex-fast-lexical-analyzer-generator/\n",
        "\n",
        "‌"
      ],
      "metadata": {
        "id": "2GL_0m2hkh_J"
      }
    }
  ]
}